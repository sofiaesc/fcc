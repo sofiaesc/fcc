{
  "cells": [
    {
      "cell_type": "code",
      "execution_count": 2,
      "metadata": {
        "id": "Y1onB6kUvo4Z"
      },
      "outputs": [],
      "source": [
        "# import libraries (you may add additional imports but you may not have to)\n",
        "import numpy as np\n",
        "import pandas as pd\n",
        "from scipy.sparse import csr_matrix\n",
        "from sklearn.neighbors import NearestNeighbors\n",
        "import matplotlib.pyplot as plt"
      ]
    },
    {
      "cell_type": "markdown",
      "source": [
        "## initialization"
      ],
      "metadata": {
        "id": "p4B-dohtb5to"
      }
    },
    {
      "cell_type": "code",
      "execution_count": 3,
      "metadata": {
        "id": "iAQGqqO_vo4d",
        "outputId": "82e2a127-c668-495d-ab18-5999178033d7",
        "colab": {
          "base_uri": "https://localhost:8080/"
        }
      },
      "outputs": [
        {
          "output_type": "stream",
          "name": "stdout",
          "text": [
            "--2025-02-28 11:19:05--  https://cdn.freecodecamp.org/project-data/books/book-crossings.zip\n",
            "Resolving cdn.freecodecamp.org (cdn.freecodecamp.org)... 172.67.70.149, 104.26.3.33, 104.26.2.33, ...\n",
            "Connecting to cdn.freecodecamp.org (cdn.freecodecamp.org)|172.67.70.149|:443... connected.\n",
            "HTTP request sent, awaiting response... 200 OK\n",
            "Length: 26085508 (25M) [application/zip]\n",
            "Saving to: ‘book-crossings.zip.2’\n",
            "\n",
            "book-crossings.zip. 100%[===================>]  24.88M  --.-KB/s    in 0.1s    \n",
            "\n",
            "2025-02-28 11:19:05 (174 MB/s) - ‘book-crossings.zip.2’ saved [26085508/26085508]\n",
            "\n",
            "Archive:  book-crossings.zip\n",
            "replace BX-Book-Ratings.csv? [y]es, [n]o, [A]ll, [N]one, [r]ename: N\n"
          ]
        }
      ],
      "source": [
        "# get data files\n",
        "!wget https://cdn.freecodecamp.org/project-data/books/book-crossings.zip\n",
        "\n",
        "!unzip book-crossings.zip\n",
        "\n",
        "books_filename = 'BX-Books.csv'\n",
        "ratings_filename = 'BX-Book-Ratings.csv'"
      ]
    },
    {
      "cell_type": "code",
      "execution_count": 4,
      "metadata": {
        "id": "NClILWOiEd6Q"
      },
      "outputs": [],
      "source": [
        "# import csv data into dataframes\n",
        "df_books = pd.read_csv(\n",
        "    books_filename,\n",
        "    encoding = \"ISO-8859-1\",\n",
        "    sep=\";\",\n",
        "    header=0,\n",
        "    names=['isbn', 'title', 'author'],\n",
        "    usecols=['isbn', 'title', 'author'],\n",
        "    dtype={'isbn': 'str', 'title': 'str', 'author': 'str'})\n",
        "\n",
        "df_ratings = pd.read_csv(\n",
        "    ratings_filename,\n",
        "    encoding = \"ISO-8859-1\",\n",
        "    sep=\";\",\n",
        "    header=0,\n",
        "    names=['user', 'isbn', 'rating'],\n",
        "    usecols=['user', 'isbn', 'rating'],\n",
        "    dtype={'user': 'int32', 'isbn': 'str', 'rating': 'float32'})"
      ]
    },
    {
      "cell_type": "code",
      "execution_count": 5,
      "metadata": {
        "id": "xAcXjkCFCh0A",
        "outputId": "7bf37004-0739-4489-cf68-0672c95162b6",
        "colab": {
          "base_uri": "https://localhost:8080/"
        }
      },
      "outputs": [
        {
          "output_type": "stream",
          "name": "stdout",
          "text": [
            "         isbn                                              title  \\\n",
            "0  0195153448                                Classical Mythology   \n",
            "1  0002005018                                       Clara Callan   \n",
            "2  0060973129                               Decision in Normandy   \n",
            "3  0374157065  Flu: The Story of the Great Influenza Pandemic...   \n",
            "4  0393045218                             The Mummies of Urumchi   \n",
            "\n",
            "                 author  \n",
            "0    Mark P. O. Morford  \n",
            "1  Richard Bruce Wright  \n",
            "2          Carlo D'Este  \n",
            "3      Gina Bari Kolata  \n",
            "4       E. J. W. Barber  \n"
          ]
        }
      ],
      "source": [
        "# quick check of the columns for books\n",
        "print(df_books.head())"
      ]
    },
    {
      "cell_type": "code",
      "source": [
        "# quick check of the columns for reviews\n",
        "print(df_ratings.head())"
      ],
      "metadata": {
        "id": "IM0VvkvYMXMf",
        "outputId": "a7d8a9fe-fc99-41cc-ddd7-952e937a2a31",
        "colab": {
          "base_uri": "https://localhost:8080/"
        }
      },
      "execution_count": 6,
      "outputs": [
        {
          "output_type": "stream",
          "name": "stdout",
          "text": [
            "     user        isbn  rating\n",
            "0  276725  034545104X     0.0\n",
            "1  276726  0155061224     5.0\n",
            "2  276727  0446520802     0.0\n",
            "3  276729  052165615X     3.0\n",
            "4  276729  0521795028     6.0\n"
          ]
        }
      ]
    },
    {
      "cell_type": "markdown",
      "source": [
        "## user filtering"
      ],
      "metadata": {
        "id": "sKptHl-5bkV1"
      }
    },
    {
      "cell_type": "code",
      "source": [
        "ratings = df_ratings['user'].value_counts() # amount of ratings per user\n",
        "\n",
        "# now we get a distribution in groups to check data distribution (adjusting bins)\n",
        "ratings_users_bins = pd.cut(ratings,\n",
        "                            bins=[0, 10, 100, 200, 500, 1000, 5000, 10000],\n",
        "                            labels=['0-10', '11-100', '101-200', '201-500', '501-1000', '1001-5000', '5001+'],\n",
        "                            right=False)\n",
        "ratings_users_distribution = ratings_users_bins.value_counts().sort_index()\n",
        "\n",
        "print(ratings_users_distribution)"
      ],
      "metadata": {
        "id": "aoktrBR8TG1T",
        "outputId": "1206a184-5705-4224-c991-8197483641b8",
        "colab": {
          "base_uri": "https://localhost:8080/"
        }
      },
      "execution_count": 65,
      "outputs": [
        {
          "output_type": "stream",
          "name": "stdout",
          "text": [
            "count\n",
            "0-10         92186\n",
            "11-100       11250\n",
            "101-200        942\n",
            "201-500        618\n",
            "501-1000       170\n",
            "1001-5000      112\n",
            "5001+            4\n",
            "Name: count, dtype: int64\n"
          ]
        }
      ]
    },
    {
      "cell_type": "markdown",
      "source": [
        "Given there are many users with few reviews (and therefore examples to train), we can keep only those with a certain amount of reviews. This bar is adjustable."
      ],
      "metadata": {
        "id": "SNLDU78AVuA2"
      }
    },
    {
      "cell_type": "code",
      "source": [
        "users_bar_limit = 1000"
      ],
      "metadata": {
        "id": "HN0D0SFpc5TF"
      },
      "execution_count": 68,
      "outputs": []
    },
    {
      "cell_type": "code",
      "source": [
        "users_filtered = ratings[ratings >= users_bar_limit].index  # obtain the indexes of the users with more than user_bar_limit reviews\n",
        "\n",
        "print('users before filter:',ratings.shape[0])\n",
        "print('users after filter:',len(users_filtered))"
      ],
      "metadata": {
        "id": "uW43dY3TVtze",
        "outputId": "bec37369-81a0-414a-ca2a-10e6e7b4202d",
        "colab": {
          "base_uri": "https://localhost:8080/"
        }
      },
      "execution_count": 75,
      "outputs": [
        {
          "output_type": "stream",
          "name": "stdout",
          "text": [
            "users before filter: 105283\n",
            "users after filter: 117\n"
          ]
        }
      ]
    },
    {
      "cell_type": "code",
      "source": [
        "df_ratings_filtered = df_ratings[df_ratings['user'].isin(users_filtered)]   # filter with those indexes"
      ],
      "metadata": {
        "id": "Y8B1UubJZgzt"
      },
      "execution_count": 92,
      "outputs": []
    },
    {
      "cell_type": "markdown",
      "source": [
        "## book filtering"
      ],
      "metadata": {
        "id": "I9gX01Z_bp_j"
      }
    },
    {
      "cell_type": "code",
      "source": [
        "book_review_counts = df_ratings['isbn'].value_counts()\n",
        "\n",
        "# now we get a distribution in groups to check data distribution (adjusting bins)\n",
        "ratings_books_bins = pd.cut(ratings,\n",
        "                            bins=[0, 10, 50, 100, 200, 500, 1000, 2000],\n",
        "                            labels=['0-10', '11-50', '51-100', '101-200', '201-500', '501-1000', '1001+'],\n",
        "                            right=False)\n",
        "ratings_books_distribution = ratings_books_bins.value_counts().sort_index()\n",
        "\n",
        "print(ratings_books_distribution)"
      ],
      "metadata": {
        "id": "J8Tl1Sxuc_W9",
        "outputId": "c0ea2ada-71bf-409d-86cc-9496550492e9",
        "colab": {
          "base_uri": "https://localhost:8080/"
        }
      },
      "execution_count": 107,
      "outputs": [
        {
          "output_type": "stream",
          "name": "stdout",
          "text": [
            "count\n",
            "0-10        92186\n",
            "11-50        9670\n",
            "51-100       1580\n",
            "101-200       942\n",
            "201-500       618\n",
            "501-1000      170\n",
            "1001+          88\n",
            "Name: count, dtype: int64\n"
          ]
        }
      ]
    },
    {
      "cell_type": "code",
      "source": [
        "books_bar_limit = 1000"
      ],
      "metadata": {
        "id": "OPNI2Rxoie_H"
      },
      "execution_count": 136,
      "outputs": []
    },
    {
      "cell_type": "code",
      "source": [
        "books_filtered = book_review_counts[book_review_counts >= books_bar_limit].index  # obtain the indexes of the books with more than books_bar_limit reviews\n",
        "\n",
        "print('books before filter:',df_books.shape[0])\n",
        "print('books after filter:',len(books_filtered))"
      ],
      "metadata": {
        "id": "l9RoBD8Uifv7",
        "outputId": "23872ac1-c32f-43e9-c6a3-6c344b5e107e",
        "colab": {
          "base_uri": "https://localhost:8080/"
        }
      },
      "execution_count": 137,
      "outputs": [
        {
          "output_type": "stream",
          "name": "stdout",
          "text": [
            "books before filter: 271379\n",
            "books after filter: 2\n"
          ]
        }
      ]
    },
    {
      "cell_type": "code",
      "source": [
        "df_books_filtered = df_ratings[df_ratings['isbn'].isin(books_filtered)]   # filter with those indexes\n",
        "print(len(df_books_filtered))"
      ],
      "metadata": {
        "id": "9JJkawDHkDpu",
        "outputId": "4f049703-4ee1-4742-cfe6-d7e1e84f649c",
        "colab": {
          "base_uri": "https://localhost:8080/"
        }
      },
      "execution_count": 138,
      "outputs": [
        {
          "output_type": "stream",
          "name": "stdout",
          "text": [
            "3797\n"
          ]
        }
      ]
    },
    {
      "cell_type": "code",
      "source": [
        "df_books_filtered = df_books_filtered[df_books_filtered.isbn.isin(df_books.isbn)]   # remove books not in df_books\n",
        "print(len(df_books_filtered))"
      ],
      "metadata": {
        "id": "0RTcrqfyl3h4",
        "outputId": "21c21e51-ba8c-4248-8790-24e00190f714",
        "colab": {
          "base_uri": "https://localhost:8080/"
        }
      },
      "execution_count": 139,
      "outputs": [
        {
          "output_type": "stream",
          "name": "stdout",
          "text": [
            "3797\n"
          ]
        }
      ]
    },
    {
      "cell_type": "markdown",
      "source": [
        "## merge after filtering"
      ],
      "metadata": {
        "id": "8gOjIQU1bx_h"
      }
    },
    {
      "cell_type": "code",
      "source": [
        "df_merge_filtered = df_ratings_filtered.merge(df_books_filtered, on=\"isbn\", how=\"left\")\n",
        "df_merge_filtered = df_merge_filtered.drop(columns=['user_y', 'rating_y'])\n",
        "\n",
        "print(df_merge_filtered.head())"
      ],
      "metadata": {
        "id": "2GFqpRZ_aObP",
        "outputId": "19b2641c-2c33-4b2a-ac82-ef7da33ec9c4",
        "colab": {
          "base_uri": "https://localhost:8080/"
        }
      },
      "execution_count": 140,
      "outputs": [
        {
          "output_type": "stream",
          "name": "stdout",
          "text": [
            "   user_x        isbn  rating_x\n",
            "0  278418  0006128831       0.0\n",
            "1  278418  0006542808       5.0\n",
            "2  278418  0020209606       0.0\n",
            "3  278418  0020418809       0.0\n",
            "4  278418  0020420900       0.0\n"
          ]
        }
      ]
    },
    {
      "cell_type": "code",
      "source": [
        "print(f'N. of books: {df_merge_filtered.isbn.nunique()}',\n",
        "      f'N. of users: {df_merge_filtered.user_x.nunique()}',\n",
        "      sep='\\n')"
      ],
      "metadata": {
        "id": "dr31tfKKlw0d",
        "outputId": "690355a6-8c54-4f98-a888-b4f7dd188050",
        "colab": {
          "base_uri": "https://localhost:8080/"
        }
      },
      "execution_count": 141,
      "outputs": [
        {
          "output_type": "stream",
          "name": "stdout",
          "text": [
            "N. of books: 120694\n",
            "N. of users: 117\n"
          ]
        }
      ]
    },
    {
      "cell_type": "markdown",
      "source": [
        "## model"
      ],
      "metadata": {
        "id": "UmVLUK2vb0uF"
      }
    },
    {
      "cell_type": "code",
      "execution_count": null,
      "metadata": {
        "id": "f5ZUd-L1SQz7"
      },
      "outputs": [],
      "source": [
        "# function to return recommended books - this will be tested\n",
        "def get_recommends(book = \"\"):\n",
        "\n",
        "\n",
        "  return recommended_books"
      ]
    },
    {
      "cell_type": "code",
      "execution_count": null,
      "metadata": {
        "id": "jd2SLCh8oxMh"
      },
      "outputs": [],
      "source": [
        "books = get_recommends(\"Where the Heart Is (Oprah's Book Club (Paperback))\")\n",
        "print(books)\n",
        "\n",
        "def test_book_recommendation():\n",
        "  test_pass = True\n",
        "  recommends = get_recommends(\"Where the Heart Is (Oprah's Book Club (Paperback))\")\n",
        "  if recommends[0] != \"Where the Heart Is (Oprah's Book Club (Paperback))\":\n",
        "    test_pass = False\n",
        "  recommended_books = [\"I'll Be Seeing You\", 'The Weight of Water', 'The Surgeon', 'I Know This Much Is True']\n",
        "  recommended_books_dist = [0.8, 0.77, 0.77, 0.77]\n",
        "  for i in range(2):\n",
        "    if recommends[1][i][0] not in recommended_books:\n",
        "      test_pass = False\n",
        "    if abs(recommends[1][i][1] - recommended_books_dist[i]) >= 0.05:\n",
        "      test_pass = False\n",
        "  if test_pass:\n",
        "    print(\"You passed the challenge! 🎉🎉🎉🎉🎉\")\n",
        "  else:\n",
        "    print(\"You haven't passed yet. Keep trying!\")\n",
        "\n",
        "test_book_recommendation()"
      ]
    }
  ],
  "metadata": {
    "colab": {
      "name": "fcc_book_recommendation_knn.ipynb",
      "provenance": [],
      "gpuType": "T4"
    },
    "kernelspec": {
      "display_name": "Python 3",
      "name": "python3"
    },
    "language_info": {
      "codemirror_mode": {
        "name": "ipython",
        "version": 3
      },
      "file_extension": ".py",
      "mimetype": "text/x-python",
      "name": "python",
      "nbconvert_exporter": "python",
      "pygments_lexer": "ipython3",
      "version": "3.6.5"
    },
    "accelerator": "GPU"
  },
  "nbformat": 4,
  "nbformat_minor": 0
}