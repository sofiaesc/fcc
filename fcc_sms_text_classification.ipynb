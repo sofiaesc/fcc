{
  "cells": [
    {
      "cell_type": "code",
      "execution_count": null,
      "metadata": {
        "id": "8RZOuS9LWQvv"
      },
      "outputs": [],
      "source": [
        "# import libraries\n",
        "try:\n",
        "  # %tensorflow_version only exists in Colab.\n",
        "  !pip install tf-nightly\n",
        "except Exception:\n",
        "  pass\n",
        "import tensorflow as tf\n",
        "import pandas as pd\n",
        "from tensorflow import keras\n",
        "!pip install tensorflow-datasets\n",
        "import tensorflow_datasets as tfds\n",
        "import numpy as np\n",
        "import matplotlib.pyplot as plt\n",
        "\n",
        "print(tf.__version__)"
      ]
    },
    {
      "cell_type": "code",
      "execution_count": null,
      "metadata": {
        "id": "lMHwYXHXCar3"
      },
      "outputs": [],
      "source": [
        "# get data files\n",
        "!wget https://cdn.freecodecamp.org/project-data/sms/train-data.tsv\n",
        "!wget https://cdn.freecodecamp.org/project-data/sms/valid-data.tsv\n",
        "\n",
        "train_file_path = \"train-data.tsv\"\n",
        "test_file_path = \"valid-data.tsv\""
      ]
    },
    {
      "cell_type": "code",
      "execution_count": null,
      "metadata": {
        "id": "g_h508FEClxO"
      },
      "outputs": [],
      "source": [
        "train_dataset = pd.read_csv(\n",
        "                            'train-data.tsv', sep='\\t',\n",
        "                            names=['class', 'text']\n",
        "                            )\n",
        "dev_dataset = pd.read_csv(\n",
        "                            'valid-data.tsv', sep='\\t',\n",
        "                             names=['class', 'text']\n",
        "                             )\n",
        "\n",
        "print(train_dataset.head())\n",
        "print(\"-\"*60)\n",
        "print(dev_dataset.head())"
      ]
    },
    {
      "cell_type": "code",
      "execution_count": null,
      "metadata": {
        "id": "zOMKywn4zReN"
      },
      "outputs": [],
      "source": [
        "train_dataset['class'] = train_dataset['class'].map({'ham': 0, 'spam': 1})\n",
        "dev_dataset['class'] = dev_dataset['class'].map({'ham': 0, 'spam': 1})\n",
        "\n",
        "train_data, train_labels = train_dataset['text'], train_dataset['class']\n",
        "dev_data, dev_labels = dev_dataset['text'], dev_dataset['class']"
      ]
    },
    {
      "cell_type": "code",
      "source": [
        "train_word_counts = [len(message.split()) for message in train_data]\n",
        "dev_word_counts = [len(message.split()) for message in dev_data]\n",
        "\n",
        "max_words_train_dev = [max(train_word_counts), max(dev_word_counts)]\n",
        "print(max_words_train_dev)"
      ],
      "metadata": {
        "id": "y6lmMvZEsa1T"
      },
      "execution_count": null,
      "outputs": []
    },
    {
      "cell_type": "code",
      "source": [
        "train_message_len = [len(message) for message in train_data]\n",
        "dev_message_len = [len(message) for message in dev_data]\n",
        "\n",
        "max_seq_len_train_dev = [max(train_message_len), max(dev_message_len)]\n",
        "print(max_seq_len_train_dev)"
      ],
      "metadata": {
        "id": "YcgPzo2htK1c"
      },
      "execution_count": null,
      "outputs": []
    },
    {
      "cell_type": "code",
      "source": [
        "max_words=max(max_words_train_dev)\n",
        "max_seq_len=max(max_seq_len_train_dev)\n",
        "\n",
        "# tokenize text\n",
        "tokenizer = keras.preprocessing.text.Tokenizer(num_words=max_words)\n",
        "tokenizer.fit_on_texts(train_data)\n",
        "\n",
        "# convert text to int\n",
        "train_seq = tokenizer.texts_to_sequences(train_data)\n",
        "dev_seq = tokenizer.texts_to_sequences(dev_data)\n",
        "\n",
        "# pad to have same lengths\n",
        "train_seq_padded = keras.preprocessing.sequence.pad_sequences(train_seq, maxlen=max_seq_len)\n",
        "dev_seq_padded = keras.preprocessing.sequence.pad_sequences(dev_seq, maxlen=max_seq_len)"
      ],
      "metadata": {
        "id": "wYeyj-BdpNJv"
      },
      "execution_count": null,
      "outputs": []
    },
    {
      "cell_type": "code",
      "source": [
        "model = keras.Sequential([\n",
        "    keras.layers.Embedding(input_dim=max_words, output_dim=128),\n",
        "    keras.layers.LSTM(128, dropout=0.2, recurrent_dropout=0.2),\n",
        "    keras.layers.Dense(1, activation='sigmoid')\n",
        "])\n",
        "model.compile(optimizer='adam', loss='binary_crossentropy', metrics=['accuracy'])"
      ],
      "metadata": {
        "id": "E4z0ivsKtmsr"
      },
      "execution_count": null,
      "outputs": []
    },
    {
      "cell_type": "code",
      "source": [
        "model.fit(train_seq_padded, train_labels, epochs=5, batch_size=32, validation_data=(dev_seq_padded, dev_labels))"
      ],
      "metadata": {
        "id": "LCgokFGdtwNG"
      },
      "execution_count": null,
      "outputs": []
    },
    {
      "cell_type": "code",
      "execution_count": null,
      "metadata": {
        "id": "J9tD9yACG6M9"
      },
      "outputs": [],
      "source": [
        "# function to predict messages based on model\n",
        "# (should return list containing prediction and label, ex. [0.008318834938108921, 'ham'])\n",
        "def predict_message(pred_text):\n",
        "    message_seq = tokenizer.texts_to_sequences([pred_text])\n",
        "    message_padded = keras.preprocessing.sequence.pad_sequences(message_seq, maxlen=max_seq_len)\n",
        "\n",
        "    proba = model.predict(message_padded)[0][0]\n",
        "\n",
        "    predicted_label = 'ham' if proba < 0.5 else 'spam'\n",
        "\n",
        "    return [proba, predicted_label]\n",
        "\n",
        "pred_text = \"how are you doing today?\"\n",
        "\n",
        "prediction = predict_message(pred_text)\n",
        "print(prediction)"
      ]
    },
    {
      "cell_type": "code",
      "execution_count": null,
      "metadata": {
        "id": "Dxotov85SjsC"
      },
      "outputs": [],
      "source": [
        "# Run this cell to test your function and model. Do not modify contents.\n",
        "def test_predictions():\n",
        "  test_messages = [\"how are you doing today\",\n",
        "                   \"sale today! to stop texts call 98912460324\",\n",
        "                   \"i dont want to go. can we try it a different day? available sat\",\n",
        "                   \"our new mobile video service is live. just install on your phone to start watching.\",\n",
        "                   \"you have won £1000 cash! call to claim your prize.\",\n",
        "                   \"i'll bring it tomorrow. don't forget the milk.\",\n",
        "                   \"wow, is your arm alright. that happened to me one time too\"\n",
        "                  ]\n",
        "\n",
        "  test_answers = [\"ham\", \"spam\", \"ham\", \"spam\", \"spam\", \"ham\", \"ham\"]\n",
        "  passed = True\n",
        "\n",
        "  for msg, ans in zip(test_messages, test_answers):\n",
        "    prediction = predict_message(msg)\n",
        "    if prediction[1] != ans:\n",
        "      passed = False\n",
        "\n",
        "  if passed:\n",
        "    print(\"You passed the challenge. Great job!\")\n",
        "  else:\n",
        "    print(\"You haven't passed yet. Keep trying.\")\n",
        "\n",
        "test_predictions()\n"
      ]
    }
  ],
  "metadata": {
    "colab": {
      "name": "fcc_sms_text_classification.ipynb",
      "private_outputs": true,
      "provenance": [],
      "gpuType": "T4"
    },
    "kernelspec": {
      "display_name": "Python 3",
      "name": "python3"
    },
    "language_info": {},
    "accelerator": "GPU"
  },
  "nbformat": 4,
  "nbformat_minor": 0
}